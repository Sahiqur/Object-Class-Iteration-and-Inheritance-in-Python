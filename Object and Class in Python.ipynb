{
 "cells": [
  {
   "cell_type": "code",
   "execution_count": 7,
   "id": "20c7add5",
   "metadata": {},
   "outputs": [
    {
     "name": "stdout",
     "output_type": "stream",
     "text": [
      "<class '__main__.myclass'>\n"
     ]
    }
   ],
   "source": [
    "class myclass:\n",
    "    x=5\n",
    "print(myclass)"
   ]
  },
  {
   "cell_type": "code",
   "execution_count": 8,
   "id": "cae697ba",
   "metadata": {},
   "outputs": [
    {
     "name": "stdout",
     "output_type": "stream",
     "text": [
      "<class '__main__.myclass'>\n"
     ]
    }
   ],
   "source": [
    "class myclass():\n",
    "    x=\"Sahiqur Rahman\"\n",
    "print(myclass)"
   ]
  },
  {
   "cell_type": "code",
   "execution_count": 11,
   "id": "25bef9a5",
   "metadata": {},
   "outputs": [
    {
     "name": "stdout",
     "output_type": "stream",
     "text": [
      "5\n"
     ]
    }
   ],
   "source": [
    "class myclass:\n",
    "    x=5\n",
    "a=myclass()\n",
    "print(a.x)"
   ]
  },
  {
   "cell_type": "code",
   "execution_count": 12,
   "id": "beafbb0c",
   "metadata": {},
   "outputs": [
    {
     "name": "stdout",
     "output_type": "stream",
     "text": [
      "Sahiqur Rahman\n"
     ]
    }
   ],
   "source": [
    "class myclass:\n",
    "    x=\"Sahiqur Rahman\"\n",
    "p1=myclass()\n",
    "print(p1.x)"
   ]
  },
  {
   "cell_type": "code",
   "execution_count": 13,
   "id": "c1e67b82",
   "metadata": {},
   "outputs": [
    {
     "name": "stdout",
     "output_type": "stream",
     "text": [
      "20\n"
     ]
    }
   ],
   "source": [
    "class myclass:\n",
    "    a=5\n",
    "    b=10\n",
    "    c=5\n",
    "    total=a+b+c\n",
    "t1=myclass()\n",
    "print(t1.total)"
   ]
  },
  {
   "cell_type": "code",
   "execution_count": 25,
   "id": "b2ad05e8",
   "metadata": {},
   "outputs": [
    {
     "name": "stdout",
     "output_type": "stream",
     "text": [
      "15\n"
     ]
    }
   ],
   "source": [
    "s=0\n",
    "i=1\n",
    "for i in range(5):\n",
    "    i=i+1\n",
    "    s=s+i\n",
    "print(s)"
   ]
  },
  {
   "cell_type": "code",
   "execution_count": 26,
   "id": "16380e1f",
   "metadata": {},
   "outputs": [
    {
     "name": "stdout",
     "output_type": "stream",
     "text": [
      "15\n"
     ]
    }
   ],
   "source": [
    "s=0\n",
    "i=1\n",
    "class myclass:\n",
    "    for i in range(5):\n",
    "        i=i+1\n",
    "        s=s+i\n",
    "p1=myclass()\n",
    "print(p1.s)"
   ]
  },
  {
   "cell_type": "code",
   "execution_count": 32,
   "id": "490f2cf1",
   "metadata": {},
   "outputs": [
    {
     "name": "stdout",
     "output_type": "stream",
     "text": [
      "Enter you expected Value = 5\n",
      "15\n"
     ]
    }
   ],
   "source": [
    "s=0\n",
    "i=1\n",
    "n=int(input(\"Enter you expected Value = \"))\n",
    "class myclass:\n",
    "    for i in range(n):\n",
    "        i=i+1\n",
    "        s=s+i\n",
    "p1=myclass()\n",
    "print(p1.s)"
   ]
  },
  {
   "cell_type": "code",
   "execution_count": 54,
   "id": "077316e0",
   "metadata": {},
   "outputs": [
    {
     "name": "stdout",
     "output_type": "stream",
     "text": [
      "Enter the value of = 10\n",
      "20\n"
     ]
    }
   ],
   "source": [
    "s=0\n",
    "i=0\n",
    "n=int(input(\"Enter the value of = \"))\n",
    "for i in range(n):\n",
    "    if i%2==0:\n",
    "        \n",
    "        s=s+i\n",
    "    i=i+1\n",
    "print(s)"
   ]
  },
  {
   "cell_type": "code",
   "execution_count": 62,
   "id": "f7c73e7d",
   "metadata": {},
   "outputs": [
    {
     "name": "stdout",
     "output_type": "stream",
     "text": [
      "Enter the Value of = 10\n",
      "20\n"
     ]
    }
   ],
   "source": [
    "s=0\n",
    "i=0\n",
    "n=int(input(\"Enter the Value of = \"))\n",
    "class myclass:\n",
    "    for i in range(n):\n",
    "        if i%2==0:\n",
    "            s=s+i\n",
    "        i=i+1\n",
    "p1=myclass()\n",
    "print(p1.s)"
   ]
  },
  {
   "cell_type": "code",
   "execution_count": 64,
   "id": "6a6b868d",
   "metadata": {},
   "outputs": [
    {
     "name": "stdout",
     "output_type": "stream",
     "text": [
      "sahiq\n",
      "Abir\n",
      "Karim\n",
      "Jabir\n"
     ]
    }
   ],
   "source": [
    "a=[\"sahiq\",\"Abir\",\"Karim\",\"Jabir\"]\n",
    "for i in a:\n",
    "    print(i)"
   ]
  },
  {
   "cell_type": "code",
   "execution_count": 72,
   "id": "04d46f87",
   "metadata": {},
   "outputs": [
    {
     "name": "stdout",
     "output_type": "stream",
     "text": [
      "Sahiq\n",
      "Abir\n",
      "Karim\n",
      "Jarir\n"
     ]
    }
   ],
   "source": [
    "a=[\"Sahiq\",\"Abir\",\"Karim\",\"Jarir\"]\n",
    "for i in a:\n",
    "    print(i)"
   ]
  },
  {
   "cell_type": "code",
   "execution_count": 87,
   "id": "0264ee87",
   "metadata": {},
   "outputs": [
    {
     "name": "stdout",
     "output_type": "stream",
     "text": [
      "John\n",
      "36\n"
     ]
    }
   ],
   "source": [
    "class Person:\n",
    "  def __init__(self, name, age):\n",
    "    self.name = name\n",
    "    self.age = age\n",
    "\n",
    "p1 = Person(\"John\", 36)\n",
    "\n",
    "print(p1.name)\n",
    "print(p1.age)"
   ]
  },
  {
   "cell_type": "code",
   "execution_count": 92,
   "id": "cdf90754",
   "metadata": {},
   "outputs": [
    {
     "name": "stdout",
     "output_type": "stream",
     "text": [
      "Sahiqur Rahman\n",
      "26\n"
     ]
    }
   ],
   "source": [
    "class Person:\n",
    "    def __init__(a,name,age):\n",
    "        a.name=name\n",
    "        a.age=age\n",
    "p1=Person(\"Sahiqur Rahman\",26)\n",
    "print(p1.name)\n",
    "print(p1.age)"
   ]
  },
  {
   "cell_type": "code",
   "execution_count": 94,
   "id": "bef9675e",
   "metadata": {},
   "outputs": [
    {
     "name": "stdout",
     "output_type": "stream",
     "text": [
      "Sahiqur Rahman\n",
      "24\n",
      "CCNUST\n"
     ]
    }
   ],
   "source": [
    "class infromation:\n",
    "    def __init__(a,name,age,inst):\n",
    "        a.name=name\n",
    "        a.age=age\n",
    "        a.inst=inst\n",
    "p1=infromation(\"Sahiqur Rahman\",24,\"CCNUST\")\n",
    "print(p1.name)\n",
    "print(p1.age)\n",
    "print(p1.inst)"
   ]
  },
  {
   "cell_type": "code",
   "execution_count": 98,
   "id": "874fb4bd",
   "metadata": {},
   "outputs": [
    {
     "name": "stdout",
     "output_type": "stream",
     "text": [
      "Sahiqur Rahman\n",
      "24\n",
      "CCNUST\n",
      "01-01-2001\n"
     ]
    }
   ],
   "source": [
    "class information:\n",
    "    def __init__(a,name,age,inst,dof):\n",
    "        a.name=name\n",
    "        a.age=age\n",
    "        a.inst=inst\n",
    "        a.dof=dof\n",
    "p1=information(\"Sahiqur Rahman\",24,\"CCNUST\",\"01-01-2001\")\n",
    "print(p1.name)\n",
    "print(p1.age)\n",
    "print(p1.inst)\n",
    "print(p1.dof)"
   ]
  },
  {
   "cell_type": "code",
   "execution_count": 101,
   "id": "d5db57f0",
   "metadata": {},
   "outputs": [
    {
     "name": "stdout",
     "output_type": "stream",
     "text": [
      "Sahqiur Rahman\n",
      "24\n",
      "Data Structure\n",
      "Asp.net\n"
     ]
    }
   ],
   "source": [
    "class person:\n",
    "    def __init__(a,name,age,course,inst):\n",
    "        a.name=name\n",
    "        a.age=age\n",
    "        a.course=course\n",
    "        a.inst=inst\n",
    "p1=person(\"Sahqiur Rahman\",24,\"Data Structure\",\"Asp.net\")\n",
    "print(p1.name)\n",
    "print(p1.age)\n",
    "print(p1.course)\n",
    "print(p1.inst)"
   ]
  },
  {
   "cell_type": "code",
   "execution_count": 113,
   "id": "5d5ba87b",
   "metadata": {},
   "outputs": [
    {
     "name": "stdout",
     "output_type": "stream",
     "text": [
      "Sahiqur Rahmman --(23)--Data Structure\n"
     ]
    }
   ],
   "source": [
    "class person:\n",
    "    def __init__(self,name,age,Course):\n",
    "        self.name=name\n",
    "        self.age=age\n",
    "        self.Course=Course\n",
    "    def __str__(self):\n",
    "        return f\"{self.name}({self.age}){self.Course}\"\n",
    "p1=person(\"Sahiqur Rahmman --\",(23),\"--Data Structure\")\n",
    "print(p1)"
   ]
  },
  {
   "cell_type": "code",
   "execution_count": 108,
   "id": "f590ea14",
   "metadata": {},
   "outputs": [
    {
     "name": "stdout",
     "output_type": "stream",
     "text": [
      "Sahiqur Rahman\t(23)\n"
     ]
    }
   ],
   "source": [
    "class person:\n",
    "    def __init__(self,name,age):\n",
    "        self.name=name\n",
    "        self.age=age\n",
    "    def __str__(self):\n",
    "        return f\"{self.name}({self.age})\"\n",
    "p1=person(\"Sahiqur Rahman\\t\",23)\n",
    "print(p1)"
   ]
  },
  {
   "cell_type": "code",
   "execution_count": 119,
   "id": "7237db7b",
   "metadata": {},
   "outputs": [
    {
     "name": "stdout",
     "output_type": "stream",
     "text": [
      "Sahiqur Rahman --24-- Data Science\n"
     ]
    }
   ],
   "source": [
    "class person:\n",
    "    def __init__(self,name,age,course):\n",
    "        self.name=name\n",
    "        self.age=age\n",
    "        self.course=course\n",
    "    def __str__(self):\n",
    "        return f\"{self.name}{self.age}{self.course}\"\n",
    "p1=person(\"Sahiqur Rahman --\",24,\"-- Data Science\")\n",
    "print(p1)"
   ]
  },
  {
   "cell_type": "code",
   "execution_count": 125,
   "id": "c3e1d178",
   "metadata": {},
   "outputs": [
    {
     "name": "stdout",
     "output_type": "stream",
     "text": [
      "Hello my name is John\n"
     ]
    }
   ],
   "source": [
    "class Person:\n",
    "  def __init__(self, name, age):\n",
    "    self.name = name\n",
    "    self.age = age\n",
    "\n",
    "  def myfunc(self):\n",
    "    print(\"Hello my name is \" + self.name)\n",
    "\n",
    "p1 = Person(\"John\", 36)\n",
    "p1.myfunc()"
   ]
  },
  {
   "cell_type": "code",
   "execution_count": 132,
   "id": "8bfb74ad",
   "metadata": {},
   "outputs": [
    {
     "name": "stdout",
     "output_type": "stream",
     "text": [
      "My name is Sahiqur Rahman\n",
      "I am  23 years old\n"
     ]
    }
   ],
   "source": [
    "class person:\n",
    "    def __init__(self,name,age):\n",
    "        self.name=name\n",
    "        self.age=age\n",
    "        \n",
    "    def myfunction(self):\n",
    "        print(\"My name is \"+self.name)\n",
    "        print(\"I am \",self.age, \"years old\")\n",
    "p1=person(\"Sahiqur Rahman\",23)\n",
    "p1.myfunction()"
   ]
  },
  {
   "cell_type": "code",
   "execution_count": 133,
   "id": "d53a5329",
   "metadata": {},
   "outputs": [
    {
     "name": "stdout",
     "output_type": "stream",
     "text": [
      "My name is  Sahiqur Rahman\n",
      "I am  24 Year Old and My course name is Data Science\n"
     ]
    }
   ],
   "source": [
    "class person:\n",
    "    def __init__(self,name,age,course):\n",
    "        self.name=name\n",
    "        self.age=age\n",
    "        self.course=course\n",
    "    def myfunction(self):\n",
    "        print(\"My name is \",self.name)\n",
    "        print(\"I am \",self.age,\"Year Old and My course name is\",self.course)\n",
    "p1=person(\"Sahiqur Rahman\",24,\"Data Science\")\n",
    "p1.myfunction()"
   ]
  },
  {
   "cell_type": "code",
   "execution_count": 137,
   "id": "aef73372",
   "metadata": {},
   "outputs": [
    {
     "name": "stdout",
     "output_type": "stream",
     "text": [
      "My name is Sahiqur Rahman\n"
     ]
    }
   ],
   "source": [
    "class person:\n",
    "    def __init__(self,name,age):\n",
    "        self.name=name\n",
    "        self.age=age\n",
    "    def myfuc(abc):\n",
    "        print(\"My name is \"+abc.name)\n",
    "p1=person(\"Sahiqur Rahman\",24)\n",
    "p1.myfuc()"
   ]
  },
  {
   "cell_type": "code",
   "execution_count": 140,
   "id": "8da12697",
   "metadata": {},
   "outputs": [
    {
     "name": "stdout",
     "output_type": "stream",
     "text": [
      "My name is  Abir Ahammad. I am current  24\n"
     ]
    }
   ],
   "source": [
    "class person:\n",
    "    def __init__(self,name,age):\n",
    "        self.name=name\n",
    "        self.age=age\n",
    "    def myfunc(abc):\n",
    "        print(\"My name is \",abc.name,\"I am current \",abc.age)\n",
    "a=person(\"Abir Ahammad.\",24)\n",
    "a.myfunc()"
   ]
  },
  {
   "cell_type": "code",
   "execution_count": 142,
   "id": "6255211e",
   "metadata": {},
   "outputs": [
    {
     "name": "stdout",
     "output_type": "stream",
     "text": [
      "My name  Sahiq I am currently 24\n"
     ]
    }
   ],
   "source": [
    "class person:\n",
    "    def __init__(self,name,age):\n",
    "        self.name=name\n",
    "        self.age=age\n",
    "    def myfunc(sahiq):\n",
    "        print(\"My name \",sahiq.name,\"I am currently\",sahiq.age)\n",
    "a=person(\"Sahiq\",24)\n",
    "a.myfunc()"
   ]
  },
  {
   "cell_type": "code",
   "execution_count": 149,
   "id": "069f3602",
   "metadata": {},
   "outputs": [
    {
     "name": "stdout",
     "output_type": "stream",
     "text": [
      "Abir Ahammad\n",
      "40\n"
     ]
    }
   ],
   "source": [
    "class person:\n",
    "    def __init__(self,name,age):\n",
    "        self.name=name\n",
    "        self.age=age\n",
    "p1=person(\"Sahiqur  Rahman\",23)\n",
    "p1.age=40\n",
    "p1.name=\"Abir Ahammad\"\n",
    "print(p1.name)\n",
    "print(p1.age)"
   ]
  },
  {
   "cell_type": "code",
   "execution_count": 151,
   "id": "c91833cc",
   "metadata": {},
   "outputs": [
    {
     "name": "stdout",
     "output_type": "stream",
     "text": [
      "Mainuddin Khandar \n",
      "60\n"
     ]
    }
   ],
   "source": [
    "class person:\n",
    "    def __init__(self,name,age):\n",
    "        self.name=name\n",
    "        self.age=name\n",
    "p1=person(\"Sahiqur Rahman\",24)\n",
    "p1.name=\"Mainuddin Khandar \"\n",
    "p1.age=60\n",
    "print(p1.name)\n",
    "print(p1.age)"
   ]
  },
  {
   "cell_type": "code",
   "execution_count": 153,
   "id": "e98b6d25",
   "metadata": {},
   "outputs": [],
   "source": [
    "del p1.age"
   ]
  },
  {
   "cell_type": "code",
   "execution_count": 157,
   "id": "0d00961f",
   "metadata": {},
   "outputs": [
    {
     "name": "stdout",
     "output_type": "stream",
     "text": [
      "Mainuddin Khandar \n"
     ]
    }
   ],
   "source": [
    "print(p1.name)"
   ]
  },
  {
   "cell_type": "code",
   "execution_count": 158,
   "id": "4850aa4a",
   "metadata": {},
   "outputs": [],
   "source": [
    "del p1"
   ]
  },
  {
   "cell_type": "code",
   "execution_count": 160,
   "id": "b454f4a5",
   "metadata": {},
   "outputs": [
    {
     "ename": "NameError",
     "evalue": "name 'p1' is not defined",
     "output_type": "error",
     "traceback": [
      "\u001b[1;31m---------------------------------------------------------------------------\u001b[0m",
      "\u001b[1;31mNameError\u001b[0m                                 Traceback (most recent call last)",
      "Cell \u001b[1;32mIn[160], line 1\u001b[0m\n\u001b[1;32m----> 1\u001b[0m \u001b[38;5;28mprint\u001b[39m(p1\u001b[38;5;241m.\u001b[39mname)\n\u001b[0;32m      2\u001b[0m \u001b[38;5;28mprint\u001b[39m(p1\u001b[38;5;241m.\u001b[39mage)\n",
      "\u001b[1;31mNameError\u001b[0m: name 'p1' is not defined"
     ]
    }
   ],
   "source": [
    "print(p1.name)\n",
    "print(p1.age)"
   ]
  },
  {
   "cell_type": "markdown",
   "id": "44ddc700",
   "metadata": {},
   "source": [
    "# Inheritance "
   ]
  },
  {
   "cell_type": "code",
   "execution_count": 166,
   "id": "fe59f1b5",
   "metadata": {},
   "outputs": [
    {
     "name": "stdout",
     "output_type": "stream",
     "text": [
      "John Doe\n"
     ]
    }
   ],
   "source": [
    "class Person:\n",
    "  def __init__(self, fname, lname):\n",
    "    self.firstname = fname\n",
    "    self.lastname = lname\n",
    "\n",
    "  def printname(self):\n",
    "    print(self.firstname, self.lastname)\n",
    "\n",
    "#Use the Person class to create an object, and then execute the printname method:\n",
    "\n",
    "x = Person(\"John\", \"Doe\")\n",
    "x.printname()"
   ]
  },
  {
   "cell_type": "code",
   "execution_count": 5,
   "id": "986b2da6",
   "metadata": {},
   "outputs": [
    {
     "name": "stdout",
     "output_type": "stream",
     "text": [
      "Sahiqur Rahman 24\n"
     ]
    }
   ],
   "source": [
    "class person:\n",
    "    def __init__(self,fname,lname):\n",
    "        self.fname=fname\n",
    "        self.lname=lname\n",
    "    def printname(self):\n",
    "        print(self.fname,self.lname)\n",
    "p1=person(\"Sahiqur Rahman\",24)\n",
    "p1.printname()"
   ]
  },
  {
   "cell_type": "code",
   "execution_count": 6,
   "id": "2b3b4cee",
   "metadata": {},
   "outputs": [
    {
     "name": "stdout",
     "output_type": "stream",
     "text": [
      "Sahiqur Rahman\n"
     ]
    }
   ],
   "source": [
    "class person:\n",
    "    def __init__(self,fname,lname):\n",
    "        self.firstname=fname\n",
    "        self.lastname=lname\n",
    "    def outputprint(self):\n",
    "        print(self.firstname,self.lastname)\n",
    "p1=person(\"Sahiqur\",\"Rahman\")\n",
    "p1.outputprint()"
   ]
  },
  {
   "cell_type": "code",
   "execution_count": 7,
   "id": "e00023fb",
   "metadata": {},
   "outputs": [
    {
     "name": "stdout",
     "output_type": "stream",
     "text": [
      "Sahiqur Rahman\n"
     ]
    }
   ],
   "source": [
    "class student(person):\n",
    "    def __init__(self,fname,lname):\n",
    "        person.__init__(self,fname,lname)\n",
    "        self.fname=fname\n",
    "        self.lname=lname\n",
    "    def printout(self):\n",
    "        print(self.fname,self.lname)\n",
    "p1=student(\"Sahiqur\",\"Rahman\")\n",
    "p1.printout()"
   ]
  },
  {
   "cell_type": "code",
   "execution_count": 9,
   "id": "db882c43",
   "metadata": {},
   "outputs": [
    {
     "name": "stdout",
     "output_type": "stream",
     "text": [
      "Sahiqur Rahman\n",
      "Amir Hasan\n",
      "Saifur Rahman\n"
     ]
    }
   ],
   "source": [
    "class student(person):\n",
    "    def __init__(self,fname,lname):\n",
    "        super(). __init__(fname,lname)\n",
    "        self.fname=fname\n",
    "        self.lname=lname\n",
    "    def printout(self):\n",
    "        print(self.fname,self.lname)\n",
    "p1=student(\"Sahiqur\",\"Rahman\")\n",
    "p2=student(\"Amir\",\"Hasan\")\n",
    "p3=student(\"Saifur\",\"Rahman\")\n",
    "p1.printout()\n",
    "p2.printout()\n",
    "p3.printout()"
   ]
  },
  {
   "cell_type": "code",
   "execution_count": 8,
   "id": "e8035638",
   "metadata": {},
   "outputs": [
    {
     "name": "stdout",
     "output_type": "stream",
     "text": [
      "2023\n"
     ]
    }
   ],
   "source": [
    "class student(person):\n",
    "    def __init__(self,fname,lname):\n",
    "        self.fname=fname\n",
    "        self.lname=lname\n",
    "    def printOut(self):\n",
    "        print(self.fname,self.lname)\n",
    "    def __init__(self,fname,lname):\n",
    "        super().__init__(fname,lname)\n",
    "        self.grdyear=2023\n",
    "p1=student(\"Sahiqur \",\"Rahman\")\n",
    "print(p1.grdyear)"
   ]
  },
  {
   "cell_type": "code",
   "execution_count": 9,
   "id": "252e3239",
   "metadata": {},
   "outputs": [
    {
     "name": "stdout",
     "output_type": "stream",
     "text": [
      "2023\n"
     ]
    }
   ],
   "source": [
    "class student(person):\n",
    "    def __init__(self,fname,lname):\n",
    "        self.fname=fname\n",
    "        self.lname=lname\n",
    "    def printout(self):\n",
    "        print(self.fname,self.lname)\n",
    "    def __init__(self,fname,lname):\n",
    "        super().__init__(fname,lname)\n",
    "        self.grdyear=2023\n",
    "p1=student(\"Sahiqur \",\"Rahman\")\n",
    "print(p1.grdyear)"
   ]
  },
  {
   "cell_type": "code",
   "execution_count": 18,
   "id": "2252c5ac",
   "metadata": {},
   "outputs": [
    {
     "name": "stdout",
     "output_type": "stream",
     "text": [
      "2019\n"
     ]
    }
   ],
   "source": [
    "class Person:\n",
    "  def __init__(self, fname, lname):\n",
    "    self.firstname = fname\n",
    "    self.lastname = lname\n",
    "\n",
    "  def printname(self):\n",
    "    print(self.firstname, self.lastname)\n",
    "\n",
    "class Student(Person):\n",
    "  def __init__(self, fname, lname):\n",
    "    super().__init__(fname, lname)\n",
    "    self.graduationyear = 2019\n",
    "\n",
    "x = Student(\"Mike\", \"Olsen\")\n",
    "print(x.graduationyear)\n"
   ]
  },
  {
   "cell_type": "code",
   "execution_count": 23,
   "id": "8438ee36",
   "metadata": {},
   "outputs": [
    {
     "name": "stdout",
     "output_type": "stream",
     "text": [
      "2023\n"
     ]
    }
   ],
   "source": [
    "class person:\n",
    "    def __init__(self,fname,lname):\n",
    "        self.fname=fname\n",
    "        self.lname=lname\n",
    "    def printname(self):\n",
    "        print(self.fname,self.lname)\n",
    "class student(person):\n",
    "        def __init__(self,fname,lname):\n",
    "            super().__init__(fname,lname)\n",
    "            self.graduationyear=2023\n",
    "p1=student(\"Sahiqur\",\"Rahman\")\n",
    "print(p1.graduationyear)"
   ]
  },
  {
   "cell_type": "code",
   "execution_count": 27,
   "id": "fa2ab9e2",
   "metadata": {},
   "outputs": [
    {
     "name": "stdout",
     "output_type": "stream",
     "text": [
      "2022\n"
     ]
    }
   ],
   "source": [
    "class sahiq:\n",
    "    def __init__(self,fname,lname):\n",
    "        self.fname=fname\n",
    "        self.lname=lname\n",
    "    def printOut(self):\n",
    "        print(self.fname,self.lname)\n",
    "class manik(sahiq):\n",
    "    def __init__(self,fname,lname):\n",
    "        super().__init__(fname,lname)\n",
    "        self.year=2022\n",
    "p1=manik(\"Sahiqur\",\"Rahman\")\n",
    "print(p1.year)"
   ]
  },
  {
   "cell_type": "code",
   "execution_count": 36,
   "id": "a35768cd",
   "metadata": {},
   "outputs": [
    {
     "name": "stdout",
     "output_type": "stream",
     "text": [
      "Sahiqur Rahman ---- 24\n"
     ]
    }
   ],
   "source": [
    "class parents:\n",
    "    def __init__(self,fname,lname,year):\n",
    "        self.fname=fname\n",
    "        self.lname=lname\n",
    "        self.year=year\n",
    "    def printout(self):\n",
    "        print(self.fname,self.lname,self.year)\n",
    "p1=parents(\"Sahiqur\",\"Rahman ----\",24)\n",
    "p1.printout()"
   ]
  },
  {
   "cell_type": "code",
   "execution_count": 38,
   "id": "a5044044",
   "metadata": {},
   "outputs": [
    {
     "name": "stdout",
     "output_type": "stream",
     "text": [
      "Fahim Muntasir 24\n"
     ]
    }
   ],
   "source": [
    "class parents:\n",
    "    def __init__(self,fname,lname,year):\n",
    "        self.fname=fname\n",
    "        self.lname=lname\n",
    "        self.year=year\n",
    "    def printout(self):\n",
    "        print(self.fname,self.lname,self.year)\n",
    "p1=parents(\"Fahim\",\"Muntasir\",24)\n",
    "p1.printout()"
   ]
  },
  {
   "cell_type": "code",
   "execution_count": 43,
   "id": "740314ef",
   "metadata": {},
   "outputs": [
    {
     "name": "stdout",
     "output_type": "stream",
     "text": [
      "2023\n",
      "Sahiqur Rahman\n"
     ]
    }
   ],
   "source": [
    "class parents:\n",
    "    def __init__(self,fname,lname):\n",
    "        self.fname=fname\n",
    "        self.lname=lname\n",
    "    def printout(self):\n",
    "        print(self.fname,self.lname)\n",
    "class child(parents):\n",
    "    def __init__(self,fname,lname):\n",
    "        super().__init__(fname,lname)\n",
    "        self.year=2023\n",
    "p1=child(\"Sahiqur\",\"Rahman\")\n",
    "print(p1.year)\n",
    "p1.printout()"
   ]
  },
  {
   "cell_type": "code",
   "execution_count": 44,
   "id": "e64b6c95",
   "metadata": {},
   "outputs": [
    {
     "name": "stdout",
     "output_type": "stream",
     "text": [
      "Sahiqur Rahman 24\n"
     ]
    }
   ],
   "source": [
    "class parents:\n",
    "    def __init__(self,fname,lname,year):\n",
    "        self.fname=fname\n",
    "        self.lname=lname\n",
    "        self.year=year\n",
    "    def printout(self):\n",
    "        print(self.fname,self.lname,self.year)\n",
    "class child(parents):\n",
    "    def __init__(self,fname,lname,year):\n",
    "        super().__init__(fname,lname,year)\n",
    "        self.year=year\n",
    "p1=child(\"Sahiqur\",\"Rahman\",24)\n",
    "p1.printout()"
   ]
  },
  {
   "cell_type": "code",
   "execution_count": 6,
   "id": "1c4c49d0",
   "metadata": {},
   "outputs": [
    {
     "name": "stdout",
     "output_type": "stream",
     "text": [
      "Sahiqur Rahman 2024\n",
      "Fahim  Muntasir 2023\n"
     ]
    }
   ],
   "source": [
    "class child:\n",
    "    def __init__(self,fname,lname,year):\n",
    "        self.fname=fname\n",
    "        self.lname=lname\n",
    "        self.year=year\n",
    "    def printOut(self):\n",
    "        print(self.fname,self.lname,self.year)\n",
    "class parents(child):\n",
    "    def __init__(self,fname,lname,year):\n",
    "        super().__init__(fname,lname,year)\n",
    "        self.year=year\n",
    "p1=parents(\"Sahiqur\",\"Rahman\",2024)\n",
    "p2=parents(\"Fahim \",\"Muntasir\",2023)\n",
    "p1.printOut()\n",
    "p2.printOut()"
   ]
  },
  {
   "cell_type": "markdown",
   "id": "d21ac8a5",
   "metadata": {},
   "source": [
    "# Iterators "
   ]
  },
  {
   "cell_type": "code",
   "execution_count": 10,
   "id": "ebc27a98",
   "metadata": {},
   "outputs": [],
   "source": [
    "mytuples=(\"Sahiq\",\"Robin\",\"Tanim\",\"Fahim\")"
   ]
  },
  {
   "cell_type": "code",
   "execution_count": 11,
   "id": "1cfdd782",
   "metadata": {},
   "outputs": [
    {
     "data": {
      "text/plain": [
       "tuple"
      ]
     },
     "execution_count": 11,
     "metadata": {},
     "output_type": "execute_result"
    }
   ],
   "source": [
    "type(mytuples)"
   ]
  },
  {
   "cell_type": "code",
   "execution_count": 12,
   "id": "db4a5579",
   "metadata": {},
   "outputs": [
    {
     "name": "stdout",
     "output_type": "stream",
     "text": [
      "Sahiq\n"
     ]
    }
   ],
   "source": [
    "myiter=iter(mytuples)\n",
    "print(next(myiter))\n"
   ]
  },
  {
   "cell_type": "code",
   "execution_count": 13,
   "id": "e40bf7e6",
   "metadata": {},
   "outputs": [
    {
     "name": "stdout",
     "output_type": "stream",
     "text": [
      "Robin\n"
     ]
    }
   ],
   "source": [
    "print(next(myiter))"
   ]
  },
  {
   "cell_type": "code",
   "execution_count": 14,
   "id": "865fa60c",
   "metadata": {},
   "outputs": [
    {
     "name": "stdout",
     "output_type": "stream",
     "text": [
      "Tanim\n",
      "Fahim\n"
     ]
    }
   ],
   "source": [
    "print(next(myiter))\n",
    "print(next(myiter))"
   ]
  },
  {
   "cell_type": "code",
   "execution_count": 17,
   "id": "30902fbc",
   "metadata": {},
   "outputs": [
    {
     "name": "stdout",
     "output_type": "stream",
     "text": [
      "S\n",
      "a\n",
      "h\n",
      "i\n",
      "q\n",
      "u\n",
      "r\n"
     ]
    }
   ],
   "source": [
    "myiter=\"Sahiqur\"\n",
    "item=iter(myiter)\n",
    "print(next(item))\n",
    "print(next(item))\n",
    "print(next(item))\n",
    "print(next(item))\n",
    "print(next(item))\n",
    "print(next(item))\n",
    "print(next(item))"
   ]
  },
  {
   "cell_type": "code",
   "execution_count": 18,
   "id": "7e6722c0",
   "metadata": {},
   "outputs": [
    {
     "name": "stdout",
     "output_type": "stream",
     "text": [
      "Sahiq\n",
      "Tanim\n",
      "Abir\n",
      "Hasan\n",
      "Robin\n",
      "Mainuddin\n"
     ]
    }
   ],
   "source": [
    "mytuples=[\"Sahiq\",\"Tanim\",\"Abir\",\"Hasan\",\"Robin\",\"Mainuddin\"]\n",
    "for x in mytuples:\n",
    "    print(x)"
   ]
  },
  {
   "cell_type": "code",
   "execution_count": 19,
   "id": "1935c371",
   "metadata": {},
   "outputs": [
    {
     "name": "stdout",
     "output_type": "stream",
     "text": [
      "S\n",
      "a\n",
      "h\n",
      "i\n",
      "q\n",
      "u\n",
      "r\n",
      " \n",
      "R\n",
      "a\n",
      "h\n",
      "m\n",
      "a\n",
      "n\n",
      " \n",
      "S\n",
      "a\n",
      "h\n",
      "i\n",
      "q\n"
     ]
    }
   ],
   "source": [
    "item=\"Sahiqur Rahman Sahiq\"\n",
    "for x in item:\n",
    "    print(x)"
   ]
  },
  {
   "cell_type": "code",
   "execution_count": 2,
   "id": "acc73bf7",
   "metadata": {},
   "outputs": [
    {
     "name": "stdout",
     "output_type": "stream",
     "text": [
      "S\n",
      "a\n",
      "h\n",
      "i\n",
      "q\n",
      "u\n",
      "r\n",
      " \n",
      "R\n",
      "a\n",
      "h\n",
      "m\n",
      "a\n",
      "n\n",
      " \n",
      "S\n",
      "a\n",
      "h\n",
      "i\n",
      "q\n"
     ]
    }
   ],
   "source": [
    "item=\"Sahiqur Rahman Sahiq\"\n",
    "for x in item:\n",
    "    print(x)"
   ]
  },
  {
   "cell_type": "code",
   "execution_count": 6,
   "id": "8fd8705f",
   "metadata": {},
   "outputs": [
    {
     "name": "stdout",
     "output_type": "stream",
     "text": [
      "Sahiq\n",
      "Robin\n",
      "Tanim\n",
      "Fahim\n"
     ]
    }
   ],
   "source": [
    "mytuples=(\"Sahiq\",\"Robin\",\"Tanim\",\"Fahim\")\n",
    "x=iter(mytuples)\n",
    "for d in x:\n",
    "    print(d)"
   ]
  },
  {
   "cell_type": "code",
   "execution_count": 7,
   "id": "5271e0a4",
   "metadata": {},
   "outputs": [
    {
     "name": "stdout",
     "output_type": "stream",
     "text": [
      "S\n",
      "a\n",
      "h\n",
      "i\n",
      "q\n"
     ]
    }
   ],
   "source": [
    "mytuples=\"Sahiq\"\n",
    "for x in mytuples:\n",
    "    print(x)"
   ]
  },
  {
   "cell_type": "code",
   "execution_count": 11,
   "id": "bcf870f7",
   "metadata": {},
   "outputs": [
    {
     "name": "stdout",
     "output_type": "stream",
     "text": [
      "1\n",
      "2\n",
      "3\n",
      "4\n",
      "5\n"
     ]
    }
   ],
   "source": [
    "class MyNumbers:\n",
    "  def __iter__(self):\n",
    "    self.a = 1\n",
    "    return self\n",
    "\n",
    "  def __next__(self):\n",
    "    x = self.a\n",
    "    self.a += 1\n",
    "    return x\n",
    "\n",
    "myclass = MyNumbers()\n",
    "myiter = iter(myclass)\n",
    "\n",
    "print(next(myiter))\n",
    "print(next(myiter))\n",
    "print(next(myiter))\n",
    "print(next(myiter))\n",
    "print(next(myiter))"
   ]
  },
  {
   "cell_type": "code",
   "execution_count": 18,
   "id": "272134f3",
   "metadata": {},
   "outputs": [
    {
     "name": "stdout",
     "output_type": "stream",
     "text": [
      "1\n",
      "2\n",
      "3\n",
      "4\n",
      "5\n"
     ]
    }
   ],
   "source": [
    "class Myname:\n",
    "    def __iter__(self):\n",
    "        self.a=0\n",
    "        return self\n",
    "    def __next__(self):\n",
    "        x=self.a+1\n",
    "        self.a+=1\n",
    "        return x\n",
    "Myclass=Myname()\n",
    "Myiter=iter(Myclass)\n",
    "print(next(Myiter))\n",
    "print(next(Myiter))\n",
    "print(next(Myiter))\n",
    "print(next(Myiter))\n",
    "print(next(Myiter))"
   ]
  },
  {
   "cell_type": "code",
   "execution_count": 2,
   "id": "6c62666c",
   "metadata": {},
   "outputs": [
    {
     "name": "stdout",
     "output_type": "stream",
     "text": [
      "1\n",
      "2\n",
      "3\n",
      "4\n",
      "5\n"
     ]
    }
   ],
   "source": [
    "class Myname:\n",
    "    def __iter__(self):\n",
    "        self.a=0\n",
    "        return self\n",
    "    def __next__(self):\n",
    "        s=self.a+1\n",
    "        self.a+=1\n",
    "        return s\n",
    "Myclass=Myname()\n",
    "Myiter=iter(Myclass)\n",
    "print(next(Myiter))\n",
    "print(next(Myiter))\n",
    "print(next(Myiter))\n",
    "print(next(Myiter))\n",
    "print(next(Myiter))"
   ]
  },
  {
   "cell_type": "code",
   "execution_count": 2,
   "id": "f0a0d001",
   "metadata": {},
   "outputs": [
    {
     "name": "stdout",
     "output_type": "stream",
     "text": [
      "1\n",
      "2\n",
      "3\n",
      "4\n",
      "5\n",
      "6\n",
      "7\n",
      "8\n",
      "9\n",
      "10\n",
      "11\n",
      "12\n",
      "13\n",
      "14\n",
      "15\n",
      "16\n",
      "17\n",
      "18\n",
      "19\n",
      "20\n"
     ]
    }
   ],
   "source": [
    "class MyName:\n",
    "    def __iter__(self):\n",
    "        self.a=0\n",
    "        return self\n",
    "    def __next__(self):\n",
    "        if self.a<20:\n",
    "            s=self.a+1\n",
    "            self.a+=1\n",
    "            return s\n",
    "        else:\n",
    "            raise StopIteration\n",
    "Myclass=MyName()\n",
    "Myiter=iter(Myclass)\n",
    "for x in Myiter:\n",
    "    print(x)"
   ]
  },
  {
   "cell_type": "code",
   "execution_count": null,
   "id": "484bfb1d",
   "metadata": {},
   "outputs": [],
   "source": []
  }
 ],
 "metadata": {
  "kernelspec": {
   "display_name": "Python 3 (ipykernel)",
   "language": "python",
   "name": "python3"
  },
  "language_info": {
   "codemirror_mode": {
    "name": "ipython",
    "version": 3
   },
   "file_extension": ".py",
   "mimetype": "text/x-python",
   "name": "python",
   "nbconvert_exporter": "python",
   "pygments_lexer": "ipython3",
   "version": "3.11.5"
  }
 },
 "nbformat": 4,
 "nbformat_minor": 5
}
